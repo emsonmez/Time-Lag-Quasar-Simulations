{
 "cells": [
  {
   "cell_type": "code",
   "execution_count": null,
   "metadata": {},
   "outputs": [],
   "source": [
    "# This is sample code for now I just made on the spot\n",
    "\n",
    "# Importing libraries\n",
    "import matplotlib\n",
    "import matplotlib.pyplot as plt\n",
    "import numpy as np\n",
    "\n",
    "# Defining cosmological constraints\n",
    "H0 = 70 #km/sec/Mpc \n",
    "Om = 0.3 #present-day matter density parameter\n",
    "Ol = 0.7 #present-day dark energy density parameter \n",
    "Ok = 0 #assuming a flat curvature of space \n",
    "\n",
    "\n",
    "# Defining the Hubble Parameter function assuming flat Lambda-CDM model\n",
    "def Hubble(z, Om, Ol, Ok, H0):\n",
    "    return H0 * np.sqrt(Om * (1 + z)**3 + Ok * (1 + z)**2 + Ol)\n",
    "\n",
    "# Generating an array of redshift values from 0 to 5\n",
    "z_values = np.arange(0,5,0.1) \n",
    "\n",
    "# Calculate the Hubble parameter H(z) for the given array of redshift values\n",
    "H = Hubble(z_values, Om, Ol, Ok, H0) \n",
    "\n",
    "# Establishing the labels for the plot\n",
    "plt.plot(z_values,H)\n",
    "plt.xlabel('z')\n",
    "plt.ylabel('H(z) [km/s/Mpc]')\n",
    "plt.title('Hubble Parameter H(z) vs. Redshift (z)')\n",
    "\n",
    "# Saving and displaying the plot\n",
    "plt.savefig('Hubble Plot Assignment 1.png', dpi=200, bbox_inches=\"tight\")\n",
    "plt.show()"
   ]
  }
 ],
 "metadata": {
  "kernelspec": {
   "display_name": "Python 3",
   "language": "python",
   "name": "python3"
  },
  "language_info": {
   "name": "python",
   "version": "3.10.11"
  }
 },
 "nbformat": 4,
 "nbformat_minor": 2
}
